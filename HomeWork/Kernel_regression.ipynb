{
 "cells": [
  {
   "cell_type": "code",
   "execution_count": 1,
   "metadata": {},
   "outputs": [
    {
     "name": "stdout",
     "output_type": "stream",
     "text": [
      "Requirement already satisfied: sympy in c:\\program files\\python38\\lib\\site-packages (1.8)\n",
      "Requirement already satisfied: mpmath>=0.19 in c:\\program files\\python38\\lib\\site-packages (from sympy) (1.2.1)\n"
     ]
    },
    {
     "name": "stderr",
     "output_type": "stream",
     "text": [
      "WARNING: You are using pip version 21.2.4; however, version 21.3.1 is available.\n",
      "You should consider upgrading via the 'c:\\program files\\python38\\python.exe -m pip install --upgrade pip' command.\n",
      "WARNING: You are using pip version 21.2.4; however, version 21.3.1 is available.\n",
      "You should consider upgrading via the 'c:\\program files\\python38\\python.exe -m pip install --upgrade pip' command.\n"
     ]
    },
    {
     "name": "stdout",
     "output_type": "stream",
     "text": [
      "Requirement already satisfied: matplotlib in c:\\program files\\python38\\lib\\site-packages (3.4.2)\n",
      "Requirement already satisfied: kiwisolver>=1.0.1 in c:\\program files\\python38\\lib\\site-packages (from matplotlib) (1.3.1)\n",
      "Requirement already satisfied: cycler>=0.10 in c:\\program files\\python38\\lib\\site-packages (from matplotlib) (0.10.0)\n",
      "Requirement already satisfied: pyparsing>=2.2.1 in c:\\program files\\python38\\lib\\site-packages (from matplotlib) (2.4.7)\n",
      "Requirement already satisfied: numpy>=1.16 in c:\\program files\\python38\\lib\\site-packages (from matplotlib) (1.20.3)\n",
      "Requirement already satisfied: python-dateutil>=2.7 in c:\\program files\\python38\\lib\\site-packages (from matplotlib) (2.8.1)\n",
      "Requirement already satisfied: pillow>=6.2.0 in c:\\program files\\python38\\lib\\site-packages (from matplotlib) (8.2.0)\n",
      "Requirement already satisfied: six in c:\\program files\\python38\\lib\\site-packages (from cycler>=0.10->matplotlib) (1.16.0)\n"
     ]
    }
   ],
   "source": [
    "!pip install sympy\n",
    "!pip install matplotlib\n",
    "\n",
    "import sympy as sym\n",
    "import random\n",
    "#from random import normalvariate\n",
    "\n",
    "def column(matrix, i):\n",
    "    return [row[i] for row in matrix]\n",
    "\n",
    "#Генерация набора точек\n",
    "def func_gen(func, step_partition = 100, left = 5, right = 25, rand_shift = 1, seed = None):\n",
    "\n",
    "    result,original_points = [], []\n",
    "\n",
    "    if (seed is not None):\n",
    "        random.seed = seed\n",
    "\n",
    "   \n",
    "    \n",
    "    dfunc = func.diff(x)\n",
    "    f = sym.lambdify((x),func)\n",
    "    df = sym.lambdify((x),dfunc)\n",
    "\n",
    "\n",
    "\n",
    "    step = abs(right-left)/step_partition\n",
    "\n",
    "    cur_val = left\n",
    "    while (cur_val < right):\n",
    "\n",
    "        func_rand_shift = abs(rand_shift*df(cur_val))\n",
    "        #тут надо подумать над дисперсией......................\n",
    "        \n",
    "\n",
    "        y = f(cur_val)\n",
    "\n",
    "        rand_val_y = random.normalvariate(y,func_rand_shift/3)\n",
    "\n",
    "        result.append((cur_val,rand_val_y))\n",
    "        original_points.append((cur_val,y))\n",
    "\n",
    "\n",
    "        new_step = step/abs(df(cur_val))\n",
    "\n",
    "        if (new_step > 2*step):\n",
    "            cur_val += 2*step\n",
    "        elif (new_step < 0.1*step):\n",
    "            cur_val += 0.1*step\n",
    "        else:\n",
    "            cur_val += new_step\n",
    "\n",
    "        \n",
    "    \n",
    "    return result, original_points\n"
   ]
  },
  {
   "cell_type": "code",
   "execution_count": 2,
   "metadata": {},
   "outputs": [
    {
     "data": {
      "image/png": "[encoded data removed]",
      "text/plain": [
       "<Figure size 432x288 with 1 Axes>"
      ]
     },
     "metadata": {
      "needs_background": "light"
     },
     "output_type": "display_data"
    },
    {
     "name": "stdout",
     "output_type": "stream",
     "text": [
      "74\n"
     ]
    }
   ],
   "source": [
    "x = sym.symbols('x')\n",
    "a = 1.3\n",
    "b = 0.3\n",
    "c = 3.5\n",
    "d = 0.4\n",
    "k = 0.4\n",
    "\n",
    "\n",
    "step_partition = 100\n",
    "\n",
    "left, right = 25,45\n",
    "\n",
    "func = sym.sin(a*x)*sym.cos(d*x)+(b*x+c)\n",
    "#func = sym.sin(a*x)*sym.cos(d*x)*sym.sqrt(abs(k*x))+(b*x+c)\n",
    "#func = sym.sin(x)\n",
    "\n",
    "#Рисуем функции и расставляем точки вокруг нее\n",
    "points, original_points = func_gen(func,step_partition,left,right,2)\n",
    "\n",
    "\n",
    "import matplotlib.pyplot as plt\n",
    "\n",
    "plt.scatter(column(points,0), column(points,1))\n",
    "plt.plot(column(original_points,0), column(original_points,1))\n",
    "plt.show()\n",
    "\n",
    "print(len(points))"
   ]
  },
  {
   "cell_type": "code",
   "execution_count": 3,
   "metadata": {},
   "outputs": [],
   "source": [
    "import numpy as np\n",
    "def dist(X, Xi):\n",
    "    return np.sqrt((X[0]-Xi[0])**2 + (X[1]-Xi[1])**2)\n",
    "\n",
    "\n",
    "def K(r):\n",
    "    return P(r)\n",
    "\n",
    "\n",
    "#гауссово ядро\n",
    "def G(r):\n",
    "    return np.exp(-2*r**2)\n",
    "\n",
    "#прямоугольное ядро\n",
    "def P(r):\n",
    "    return int(r <= 1)\n",
    "\n",
    "#регрессия\n",
    "def appr(h,points):\n",
    "    result = []\n",
    "    for i in points:\n",
    "        #считаем по формуле ядерного сглаживания\n",
    "        num = 0\n",
    "        denum = 0\n",
    "        for j in points:\n",
    "            num += j[1]*K(dist(i, j)/h)\n",
    "            denum +=K(dist(i, j)/h)\n",
    "\n",
    "        a_h = num/denum\n",
    "\n",
    "        result.append((i[0],a_h))\n",
    "    return result\n",
    "\n"
   ]
  },
  {
   "cell_type": "code",
   "execution_count": 4,
   "metadata": {},
   "outputs": [
    {
     "data": {
      "image/png": "[encoded data removed]",
      "text/plain": [
       "<Figure size 432x288 with 1 Axes>"
      ]
     },
     "metadata": {
      "needs_background": "light"
     },
     "output_type": "display_data"
    },
    {
     "name": "stdout",
     "output_type": "stream",
     "text": [
      "74\n"
     ]
    }
   ],
   "source": [
    "#ширина окошка\n",
    "h = 3\n",
    "\n",
    "\n",
    "appr_f = appr(h,points)\n",
    "\n",
    "\n",
    "import matplotlib.pyplot as plt\n",
    "\n",
    "plt.scatter(column(points,0), column(points,1)) #рисуем изначальный набор точек\n",
    "plt.plot(column(appr_f,0), column(appr_f,1)) # рисуем регрессию\n",
    "plt.show()\n",
    "\n",
    "print(len(points))"
   ]
  },
  {
   "cell_type": "code",
   "execution_count": null,
   "metadata": {},
   "outputs": [],
   "source": []
  },
  {
   "cell_type": "code",
   "execution_count": null,
   "metadata": {},
   "outputs": [],
   "source": []
  }
 ],
 "metadata": {
  "interpreter": {
   "hash": "b3ba2566441a7c06988d0923437866b63cedc61552a5af99d1f4fb67d367b25f"
  },
  "kernelspec": {
   "display_name": "Python 3",
   "language": "python",
   "name": "python3"
  },
  "language_info": {
   "codemirror_mode": {
    "name": "ipython",
    "version": 3
   },
   "file_extension": ".py",
   "mimetype": "text/x-python",
   "name": "python",
   "nbconvert_exporter": "python",
   "pygments_lexer": "ipython3",
   "version": "3.8.2"
  }
 },
 "nbformat": 4,
 "nbformat_minor": 2
}
