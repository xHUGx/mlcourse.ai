{
 "cells": [
  {
   "cell_type": "code",
   "execution_count": 1,
   "metadata": {},
   "outputs": [
    {
     "data": {
      "text/plain": [
       "(array([  24.,  174.,  792., 1833., 2796., 2511., 1354.,  428.,   82.,\n",
       "           6.]),\n",
       " array([0.09889649, 0.12836796, 0.15783943, 0.1873109 , 0.21678237,\n",
       "        0.24625383, 0.2757253 , 0.30519677, 0.33466824, 0.3641397 ,\n",
       "        0.39361117]),\n",
       " <BarContainer object of 10 artists>)"
      ]
     },
     "execution_count": 1,
     "metadata": {},
     "output_type": "execute_result"
    },
    {
     "data": {
      "image/png": "[encoded data removed]",
      "text/plain": [
       "<Figure size 432x288 with 1 Axes>"
      ]
     },
     "metadata": {
      "needs_background": "light"
     },
     "output_type": "display_data"
    }
   ],
   "source": [
    "import numpy as np\n",
    "from matplotlib import pyplot as plt\n",
    "import random as rand\n",
    "def base_generator(N):\n",
    "    a = 5**13\n",
    "    m = 2**31 + 1\n",
    "    x0 = rand.randint(111111111,999999999)\n",
    "\n",
    "    x = [x0]\n",
    "    r = [x0/m]\n",
    "    for i in range(1,N):\n",
    "        x.append((a*x[i-1]) % m)\n",
    "        r.append(x[i]/m)\n",
    "\n",
    "    return r\n",
    "\n",
    "\n",
    "def normal_distr_value(mu, sigma, N = 12):\n",
    "    r = base_generator(N)\n",
    "    return (mu+(sigma/(np.sqrt(N/12)))*(sum(r)/ + N/2))\n",
    "\n",
    "\n",
    "z = []\n",
    "for i in range (10000):\n",
    "    z.append(normal_distr_value(0,1))\n",
    "\n",
    "\n",
    "plt.hist(z)\n",
    "\n",
    "\n",
    "\n",
    "\n"
   ]
  },
  {
   "cell_type": "code",
   "execution_count": null,
   "metadata": {},
   "outputs": [],
   "source": []
  }
 ],
 "metadata": {
  "interpreter": {
   "hash": "b5ed7aac63ba26b6cc13f3466962b87b151feb8ba9e841efa9abe3bad9164d9f"
  },
  "kernelspec": {
   "display_name": "Python 3",
   "language": "python",
   "name": "python3"
  },
  "language_info": {
   "codemirror_mode": {
    "name": "ipython",
    "version": 3
   },
   "file_extension": ".py",
   "mimetype": "text/x-python",
   "name": "python",
   "nbconvert_exporter": "python",
   "pygments_lexer": "ipython3",
   "version": "3.8.2"
  }
 },
 "nbformat": 4,
 "nbformat_minor": 2
}
