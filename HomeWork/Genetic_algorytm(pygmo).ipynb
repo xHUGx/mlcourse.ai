{
  "nbformat": 4,
  "nbformat_minor": 0,
  "metadata": {
    "colab": {
      "name": "Genetic algorytm(pygmo).ipynb",
      "provenance": [],
      "collapsed_sections": []
    },
    "kernelspec": {
      "name": "python3",
      "display_name": "Python 3"
    },
    "language_info": {
      "name": "python"
    }
  },
  "cells": [
    {
      "cell_type": "code",
      "metadata": {
        "id": "Ltics3tSjyku"
      },
      "source": [
        "!pip install pygmo"
      ],
      "execution_count": null,
      "outputs": []
    },
    {
      "cell_type": "code",
      "metadata": {
        "id": "jkhSKXaLkpZU"
      },
      "source": [
        "import pygmo as pg\n",
        "import numpy as np\n",
        "\n",
        "\n",
        "class pygmo_func:\n",
        "    def __init__(self,dim):\n",
        "        self.dim = dim\n",
        "    def fitness(self,x):\n",
        "        retval = np.zeros((1,))\n",
        "        for i in range(len(x) - 1):\n",
        "          #retval[0] += -(-np.exp(1)+20*np.exp(-np.sqrt((x[i]**2+x[i+1]**2)/50))+np.exp(0.5*(np.cos(2*np.pi*x[i])+np.sin(2*np.pi*x[i+1]))))\n",
        "          retval[0] += x[i]**2 + x[i+1] **2\n",
        "        return retval\n",
        "    def get_bounds(self):\n",
        "        return (np.full((self.dim,),-100.),np.full((self.dim,),100.))\n",
        "\n",
        "#f = lambda x, y: -np.exp(1)+20*np.exp(-np.sqrt((x**2+y**2)/50))+np.exp(0.5*(sp.cos(2*np.pi*x)+sp.sin(2*np.pi*y)))\n",
        "\n",
        "prob = pg.problem(pygmo_func(3))\n",
        "\n",
        "print(prob)\n"
      ],
      "execution_count": null,
      "outputs": []
    },
    {
      "cell_type": "code",
      "metadata": {
        "colab": {
          "base_uri": "https://localhost:8080/"
        },
        "id": "8RbWlZULHzRe",
        "outputId": "309f6e1f-4ded-41d3-c7b4-d7b985d5644b"
      },
      "source": [
        "algo = pg.algorithm(pg.bee_colony(gen = 20, limit = 20))\n",
        "pop = pg.population(prob,10)\n",
        "pop = algo.evolve(pop)\n",
        "print(pop.champion_f) "
      ],
      "execution_count": 13,
      "outputs": [
        {
          "output_type": "stream",
          "name": "stdout",
          "text": [
            "[0.6852927]\n"
          ]
        }
      ]
    }
  ]
}